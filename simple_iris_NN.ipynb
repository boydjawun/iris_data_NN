{
 "cells": [
  {
   "cell_type": "code",
   "execution_count": 1,
   "id": "76800be5-b0eb-4ef2-9263-99edd9eeaf9c",
   "metadata": {},
   "outputs": [
    {
     "data": {
      "text/plain": [
       "' I am using a simple Neural Network to determine wether a flower is a Iris Setosa, Iris Versicolor\\n    or an Iris Virginica based on Sepal Length, Sepal Width, Petal Width, and Petal length input values '"
      ]
     },
     "execution_count": 1,
     "metadata": {},
     "output_type": "execute_result"
    }
   ],
   "source": [
    "''' I am using a simple Neural Network to determine wether a flower is a Iris Setosa, Iris Versicolor\n",
    "    or an Iris Virginica based on Sepal Length, Sepal Width, Petal Width, and Petal length input values '''"
   ]
  },
  {
   "cell_type": "markdown",
   "id": "3db65a30-1202-45f4-9825-d68a07663b03",
   "metadata": {},
   "source": [
    "## Import nessasary modules"
   ]
  },
  {
   "cell_type": "code",
   "execution_count": 24,
   "id": "d26fc038-fc9c-46ce-885d-21e030c7e93c",
   "metadata": {},
   "outputs": [],
   "source": [
    "import torch\n",
    "import torch.nn as nn\n",
    "import torch.nn.functional as F"
   ]
  },
  {
   "cell_type": "markdown",
   "id": "6fd681a8-1fa8-43c4-9f97-9faf653fb056",
   "metadata": {},
   "source": [
    "## Create the Neural Network Model and Forward Pass"
   ]
  },
  {
   "cell_type": "code",
   "execution_count": 34,
   "id": "8f7e20d9-5ffc-4313-8030-c337eafa19a0",
   "metadata": {},
   "outputs": [],
   "source": [
    "class Model(nn.Module):\n",
    "    def __init__(self, in_features=4, h1=8, h2=9, out_features=3):\n",
    "       super().__init__()\n",
    "       self.fc1 = nn.Linear(in_features, h1)\n",
    "       self.fc2 = nn.Linear(h1, h2)\n",
    "       self.out = nn.Linear(h2, out_features)\n",
    "\n",
    "    def forward(self, x):\n",
    "        x = F.relu(self.fc1(x))\n",
    "        x = F.relu(self.fc2(x))\n",
    "        x = F.relu(self.out(x))\n",
    "    \n",
    "        return x"
   ]
  },
  {
   "cell_type": "markdown",
   "id": "d03eb910-95a0-4dc7-b30d-c4dfae472a97",
   "metadata": {},
   "source": [
    "## Set the random seed and initialize the Model"
   ]
  },
  {
   "cell_type": "code",
   "execution_count": 37,
   "id": "009a6716-eb8b-430d-bf53-b5cd149f3a8e",
   "metadata": {},
   "outputs": [],
   "source": [
    "torch.manual_seed(41)\n",
    "model = Model()"
   ]
  },
  {
   "cell_type": "markdown",
   "id": "faa1b466-bad4-464f-952b-d151204d90e8",
   "metadata": {},
   "source": [
    "## Bring in the Iris Data"
   ]
  },
  {
   "cell_type": "code",
   "execution_count": 48,
   "id": "67bad29c-93be-4e6b-b35e-5def3c2dd7c3",
   "metadata": {},
   "outputs": [],
   "source": [
    "from sklearn import datasets\n",
    "\n",
    "iris = datasets.load_iris()\n",
    "X = iris.data\n",
    "y = iris.target"
   ]
  },
  {
   "cell_type": "markdown",
   "id": "d4790797-74c1-40a8-8dd1-0f33ef69bad2",
   "metadata": {},
   "source": [
    "## Split the data into Training and Test data"
   ]
  },
  {
   "cell_type": "code",
   "execution_count": 92,
   "id": "fa2d0c62-23cb-4649-91dd-6e109d10b894",
   "metadata": {},
   "outputs": [],
   "source": [
    "from sklearn.model_selection import train_test_split\n",
    "\n",
    "X_train, X_test, y_train, y_test  = train_test_split(X, y, test_size = 0.2, random_state = 41) \n",
    "\n",
    "X_train = X_train.astype('float32')\n",
    "X_test = X_test.astype('float32')\n",
    "y_train = y_train.astype('float32')\n",
    "y_test = y_test.astype('float32')\n",
    "\n",
    "X_train = torch.FloatTensor(X_train)\n",
    "X_test = torch.FloatTensor(X_test)\n",
    "y_train = torch.LongTensor(y_train)\n",
    "y_test = torch.LongTensor(y_test)\n"
   ]
  },
  {
   "cell_type": "markdown",
   "id": "8c663861-f392-4cf0-84f0-f983ef1fb793",
   "metadata": {},
   "source": [
    "## Loss/Error and Optimizer"
   ]
  },
  {
   "cell_type": "code",
   "execution_count": 63,
   "id": "d7b2c6af-aa19-4282-858d-478d9ca21aa3",
   "metadata": {},
   "outputs": [],
   "source": [
    "criterion = nn.CrossEntropyLoss()\n",
    "optimizer = torch.optim.Adam(model.parameters(), lr=0.01)"
   ]
  },
  {
   "cell_type": "markdown",
   "id": "6c7ce5d6-6d63-4277-834f-998cca017a59",
   "metadata": {},
   "source": [
    "## Train the Iris data"
   ]
  },
  {
   "cell_type": "code",
   "execution_count": 94,
   "id": "956884da-c8bd-4cdd-bbcf-2fcb7c000a04",
   "metadata": {},
   "outputs": [
    {
     "name": "stdout",
     "output_type": "stream",
     "text": [
      "Epoch 0 | Loss 1.125203251838684\n",
      "Epoch 10 | Loss 1.0097211599349976\n",
      "Epoch 20 | Loss 0.8516880869865417\n",
      "Epoch 30 | Loss 0.6555684804916382\n",
      "Epoch 40 | Loss 0.45029523968696594\n",
      "Epoch 50 | Loss 0.27184727787971497\n",
      "Epoch 60 | Loss 0.15538781881332397\n",
      "Epoch 70 | Loss 0.0933627262711525\n",
      "Epoch 80 | Loss 0.06463462114334106\n",
      "Epoch 90 | Loss 0.05066271498799324\n"
     ]
    }
   ],
   "source": [
    "epochs = 100\n",
    "losses = []\n",
    "\n",
    "for i in range(epochs):\n",
    "    y_pred = model.forward(X_train)\n",
    "    loss = criterion(y_pred, y_train)\n",
    "    losses.append(loss.item())\n",
    "\n",
    "    if i %10 == 0:\n",
    "        print(f'Epoch {i} | Loss {loss}')\n",
    "\n",
    "    optimizer.zero_grad()\n",
    "    loss.backward()\n",
    "    optimizer.step()"
   ]
  },
  {
   "cell_type": "markdown",
   "id": "eeb73a02-d6a3-4a10-9446-6154487db443",
   "metadata": {},
   "source": [
    "## Graph the training data results"
   ]
  },
  {
   "cell_type": "code",
   "execution_count": 103,
   "id": "8529dd9b-338c-41ec-a928-65e9029384e4",
   "metadata": {},
   "outputs": [
    {
     "data": {
      "image/png": "[encoded data removed]",
      "text/plain": [
       "<Figure size 640x480 with 1 Axes>"
      ]
     },
     "metadata": {},
     "output_type": "display_data"
    }
   ],
   "source": [
    "import matplotlib.pyplot as plt\n",
    "\n",
    "plt.plot(range(epochs), losses)\n",
    "plt.xlabel('Number of Epochs')\n",
    "plt.ylabel('Losses/Errors')\n",
    "plt.show()"
   ]
  },
  {
   "cell_type": "markdown",
   "id": "87530515-1748-48f2-8098-b00d09a38622",
   "metadata": {},
   "source": [
    "## Run the Test Data"
   ]
  },
  {
   "cell_type": "code",
   "execution_count": 112,
   "id": "78ac44ec-6a44-4648-94bd-74d5e36018a4",
   "metadata": {},
   "outputs": [
    {
     "data": {
      "text/plain": [
       "tensor(0.1295)"
      ]
     },
     "execution_count": 112,
     "metadata": {},
     "output_type": "execute_result"
    }
   ],
   "source": [
    "with torch.no_grad():\n",
    "    y_eval = model.forward(X_test)\n",
    "    loss = criterion(y_eval, y_test)\n",
    "\n",
    "loss"
   ]
  },
  {
   "cell_type": "markdown",
   "id": "eedc4b08-eaa3-49ba-8afa-3e934dc53c0e",
   "metadata": {},
   "source": [
    "## See how many are correct"
   ]
  },
  {
   "cell_type": "code",
   "execution_count": 152,
   "id": "3d2b7f7f-3fbe-4676-a9ef-0c93e9dc5697",
   "metadata": {},
   "outputs": [
    {
     "name": "stdout",
     "output_type": "stream",
     "text": [
      "0. tensor([0.0000, 7.4447, 9.9152]) \t 2 \t 2\n",
      "1. tensor([ 0.0000,  7.7042, 14.3743]) \t 2 \t 2\n",
      "2. tensor([ 0.0000,  9.1280, 15.1753]) \t 2 \t 2\n",
      "3. tensor([0.2102, 8.3280, 4.5364]) \t 1 \t 1\n",
      "4. tensor([ 0.0000,  8.4035, 12.4779]) \t 2 \t 2\n",
      "5. tensor([1.6255, 8.0527, 1.9799]) \t 1 \t 1\n",
      "6. tensor([0.0000, 8.0659, 9.2757]) \t 2 \t 2\n",
      "7. tensor([0.3294, 8.4105, 4.3070]) \t 1 \t 1\n",
      "8. tensor([ 0.0000,  8.2367, 10.8423]) \t 2 \t 2\n",
      "9. tensor([ 0.0000,  8.1941, 15.2505]) \t 2 \t 2\n",
      "10. tensor([0.0000, 7.9806, 8.7350]) \t 2 \t 2\n",
      "11. tensor([8.9715, 3.4637, 0.0000]) \t 0 \t 0\n",
      "12. tensor([8.0554, 3.1741, 0.0000]) \t 0 \t 0\n",
      "13. tensor([2.2377, 6.4805, 0.4353]) \t 1 \t 1\n",
      "14. tensor([8.0202, 3.9148, 0.0000]) \t 0 \t 0\n",
      "15. tensor([0.0000, 8.1254, 8.0101]) \t 2 \t 1\n",
      "16. tensor([8.3626, 3.3009, 0.0000]) \t 0 \t 0\n",
      "17. tensor([0.0000, 7.6349, 9.5548]) \t 1 \t 2\n",
      "18. tensor([8.9383, 3.4532, 0.0000]) \t 0 \t 0\n",
      "19. tensor([7.5003, 3.3025, 0.0000]) \t 0 \t 0\n",
      "20. tensor([1.9760, 7.0980, 1.0766]) \t 1 \t 1\n",
      "21. tensor([ 0.0000,  8.4465, 14.0281]) \t 2 \t 2\n",
      "22. tensor([8.1228, 3.8523, 0.0000]) \t 0 \t 0\n",
      "23. tensor([8.5193, 3.3207, 0.0000]) \t 0 \t 0\n",
      "24. tensor([2.1818, 7.3382, 0.9439]) \t 1 \t 1\n",
      "25. tensor([1.5164, 7.7569, 1.9648]) \t 1 \t 1\n",
      "26. tensor([0.0574, 8.6209, 5.0719]) \t 1 \t 1\n",
      "27. tensor([1.7819, 7.5184, 1.5399]) \t 1 \t 1\n",
      "28. tensor([8.8647, 3.4299, 0.0000]) \t 0 \t 0\n",
      "29. tensor([0.0000, 8.2085, 5.3598]) \t 1 \t 1\n",
      "9/30\n"
     ]
    }
   ],
   "source": [
    "correct = 0\n",
    "with torch.no_grad():\n",
    "    for i, data in enumerate(X_test):\n",
    "        y_val = model.forward(data)\n",
    "        \n",
    "        print(f'{i}. {str(y_val)} \\t {y_test[i]} \\t {y_val.argmax().item()}')\n",
    "\n",
    "        if y_val.argmax().item() == y_train[i]:\n",
    "            correct += 1\n",
    "print(f'{correct}/30')\n",
    "            \n",
    "        "
   ]
  },
  {
   "cell_type": "markdown",
   "id": "5d2b56c6-8c82-4b03-88e5-70b8f85d7ba7",
   "metadata": {},
   "source": [
    "## Testing out our model on New Data"
   ]
  },
  {
   "cell_type": "code",
   "execution_count": 165,
   "id": "9fa70352-0007-4be3-8f36-d86aa1d299c2",
   "metadata": {},
   "outputs": [
    {
     "name": "stdout",
     "output_type": "stream",
     "text": [
      "tensor([ 0.0000,  5.5562, 18.9592])\n"
     ]
    }
   ],
   "source": [
    "new_data = torch.tensor([2.1, 3.2, 5.1, 4.3])\n",
    "\n",
    "with torch.no_grad():\n",
    "    print(model(new_data))"
   ]
  },
  {
   "cell_type": "code",
   "execution_count": null,
   "id": "f8100af0-0c58-47b4-8578-874da8d85c2d",
   "metadata": {},
   "outputs": [],
   "source": []
  }
 ],
 "metadata": {
  "kernelspec": {
   "display_name": "Python [conda env:base] *",
   "language": "python",
   "name": "conda-base-py"
  },
  "language_info": {
   "codemirror_mode": {
    "name": "ipython",
    "version": 3
   },
   "file_extension": ".py",
   "mimetype": "text/x-python",
   "name": "python",
   "nbconvert_exporter": "python",
   "pygments_lexer": "ipython3",
   "version": "3.12.7"
  }
 },
 "nbformat": 4,
 "nbformat_minor": 5
}
